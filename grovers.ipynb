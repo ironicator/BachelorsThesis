{
 "cells": [
  {
   "cell_type": "code",
   "execution_count": 10,
   "id": "b9680e94-f05c-43fd-a2e4-4fd829235150",
   "metadata": {},
   "outputs": [
    {
     "name": "stdout",
     "output_type": "stream",
     "text": [
      "Defaulting to user installation because normal site-packages is not writeable\n",
      "Requirement already satisfied: qiskit in /Users/dnk/.local/lib/python3.8/site-packages (0.36.1)\n",
      "Requirement already satisfied: qiskit-ibmq-provider==0.19.1 in /Users/dnk/.local/lib/python3.8/site-packages (from qiskit) (0.19.1)\n",
      "Requirement already satisfied: qiskit-aer==0.10.4 in /Users/dnk/.local/lib/python3.8/site-packages (from qiskit) (0.10.4)\n",
      "Requirement already satisfied: qiskit-ignis==0.7.0 in /Users/dnk/.local/lib/python3.8/site-packages (from qiskit) (0.7.0)\n",
      "Requirement already satisfied: qiskit-terra==0.20.1 in /Users/dnk/.local/lib/python3.8/site-packages (from qiskit) (0.20.1)\n",
      "Requirement already satisfied: scipy>=1.0 in /Applications/JupyterLab.app/Contents/Resources/jlab_server/lib/python3.8/site-packages (from qiskit-aer==0.10.4->qiskit) (1.8.0)\n",
      "Requirement already satisfied: numpy>=1.16.3 in /Applications/JupyterLab.app/Contents/Resources/jlab_server/lib/python3.8/site-packages (from qiskit-aer==0.10.4->qiskit) (1.22.2)\n",
      "Requirement already satisfied: requests-ntlm>=1.1.0 in /Users/dnk/.local/lib/python3.8/site-packages (from qiskit-ibmq-provider==0.19.1->qiskit) (1.1.0)\n",
      "Requirement already satisfied: urllib3>=1.21.1 in /Applications/JupyterLab.app/Contents/Resources/jlab_server/lib/python3.8/site-packages (from qiskit-ibmq-provider==0.19.1->qiskit) (1.26.8)\n",
      "Requirement already satisfied: websocket-client>=1.0.1 in /Applications/JupyterLab.app/Contents/Resources/jlab_server/lib/python3.8/site-packages (from qiskit-ibmq-provider==0.19.1->qiskit) (1.3.1)\n",
      "Requirement already satisfied: requests>=2.19 in /Applications/JupyterLab.app/Contents/Resources/jlab_server/lib/python3.8/site-packages (from qiskit-ibmq-provider==0.19.1->qiskit) (2.27.1)\n",
      "Requirement already satisfied: websockets>=10.0 in /Users/dnk/.local/lib/python3.8/site-packages (from qiskit-ibmq-provider==0.19.1->qiskit) (10.3)\n",
      "Requirement already satisfied: python-dateutil>=2.8.0 in /Applications/JupyterLab.app/Contents/Resources/jlab_server/lib/python3.8/site-packages (from qiskit-ibmq-provider==0.19.1->qiskit) (2.8.2)\n",
      "Requirement already satisfied: retworkx>=0.8.0 in /Users/dnk/.local/lib/python3.8/site-packages (from qiskit-ignis==0.7.0->qiskit) (0.11.0)\n",
      "Requirement already satisfied: setuptools>=40.1.0 in /Applications/JupyterLab.app/Contents/Resources/jlab_server/lib/python3.8/site-packages (from qiskit-ignis==0.7.0->qiskit) (60.9.3)\n",
      "Requirement already satisfied: python-constraint>=1.4 in /Users/dnk/.local/lib/python3.8/site-packages (from qiskit-terra==0.20.1->qiskit) (1.4.0)\n",
      "Requirement already satisfied: psutil>=5 in /Users/dnk/.local/lib/python3.8/site-packages (from qiskit-terra==0.20.1->qiskit) (5.9.0)\n",
      "Requirement already satisfied: dill>=0.3 in /Users/dnk/.local/lib/python3.8/site-packages (from qiskit-terra==0.20.1->qiskit) (0.3.4)\n",
      "Requirement already satisfied: symengine>=0.9 in /Users/dnk/.local/lib/python3.8/site-packages (from qiskit-terra==0.20.1->qiskit) (0.9.2)\n",
      "Requirement already satisfied: tweedledum<2.0,>=1.1 in /Users/dnk/.local/lib/python3.8/site-packages (from qiskit-terra==0.20.1->qiskit) (1.1.1)\n",
      "Requirement already satisfied: stevedore>=3.0.0 in /Users/dnk/.local/lib/python3.8/site-packages (from qiskit-terra==0.20.1->qiskit) (3.5.0)\n",
      "Requirement already satisfied: ply>=3.10 in /Users/dnk/.local/lib/python3.8/site-packages (from qiskit-terra==0.20.1->qiskit) (3.11)\n",
      "Requirement already satisfied: sympy>=1.3 in /Users/dnk/.local/lib/python3.8/site-packages (from qiskit-terra==0.20.1->qiskit) (1.10.1)\n",
      "Requirement already satisfied: six>=1.5 in /Applications/JupyterLab.app/Contents/Resources/jlab_server/lib/python3.8/site-packages (from python-dateutil>=2.8.0->qiskit-ibmq-provider==0.19.1->qiskit) (1.16.0)\n",
      "Requirement already satisfied: certifi>=2017.4.17 in /Applications/JupyterLab.app/Contents/Resources/jlab_server/lib/python3.8/site-packages (from requests>=2.19->qiskit-ibmq-provider==0.19.1->qiskit) (2021.10.8)\n",
      "Requirement already satisfied: idna<4,>=2.5 in /Applications/JupyterLab.app/Contents/Resources/jlab_server/lib/python3.8/site-packages (from requests>=2.19->qiskit-ibmq-provider==0.19.1->qiskit) (3.3)\n",
      "Requirement already satisfied: charset-normalizer~=2.0.0 in /Applications/JupyterLab.app/Contents/Resources/jlab_server/lib/python3.8/site-packages (from requests>=2.19->qiskit-ibmq-provider==0.19.1->qiskit) (2.0.12)\n",
      "Requirement already satisfied: ntlm-auth>=1.0.2 in /Users/dnk/.local/lib/python3.8/site-packages (from requests-ntlm>=1.1.0->qiskit-ibmq-provider==0.19.1->qiskit) (1.5.0)\n",
      "Requirement already satisfied: cryptography>=1.3 in /Applications/JupyterLab.app/Contents/Resources/jlab_server/lib/python3.8/site-packages (from requests-ntlm>=1.1.0->qiskit-ibmq-provider==0.19.1->qiskit) (36.0.1)\n",
      "Requirement already satisfied: pbr!=2.1.0,>=2.0.0 in /Users/dnk/.local/lib/python3.8/site-packages (from stevedore>=3.0.0->qiskit-terra==0.20.1->qiskit) (5.8.1)\n",
      "Requirement already satisfied: mpmath>=0.19 in /Users/dnk/.local/lib/python3.8/site-packages (from sympy>=1.3->qiskit-terra==0.20.1->qiskit) (1.2.1)\n",
      "Requirement already satisfied: cffi>=1.12 in /Applications/JupyterLab.app/Contents/Resources/jlab_server/lib/python3.8/site-packages (from cryptography>=1.3->requests-ntlm>=1.1.0->qiskit-ibmq-provider==0.19.1->qiskit) (1.15.0)\n",
      "Requirement already satisfied: pycparser in /Applications/JupyterLab.app/Contents/Resources/jlab_server/lib/python3.8/site-packages (from cffi>=1.12->cryptography>=1.3->requests-ntlm>=1.1.0->qiskit-ibmq-provider==0.19.1->qiskit) (2.21)\n",
      "Defaulting to user installation because normal site-packages is not writeable\n",
      "Collecting pylatexenc\n",
      "  Using cached pylatexenc-2.10.tar.gz (162 kB)\n",
      "  Preparing metadata (setup.py) ... \u001b[?25ldone\n",
      "\u001b[?25hBuilding wheels for collected packages: pylatexenc\n",
      "  Building wheel for pylatexenc (setup.py) ... \u001b[?25ldone\n",
      "\u001b[?25h  Created wheel for pylatexenc: filename=pylatexenc-2.10-py3-none-any.whl size=136836 sha256=a2a2a0923731b456d9599b1d58f5090830c55545d6d743ef0aae8669af18305a\n",
      "  Stored in directory: /Users/dnk/Library/Caches/pip/wheels/72/99/be/81d9bcdf5dd5ee5acd8119a9dd5bc07204c9ce205fd341b021\n",
      "Successfully built pylatexenc\n",
      "Installing collected packages: pylatexenc\n",
      "\u001b[33m  WARNING: The scripts latex2text, latexencode and latexwalker are installed in '/Users/dnk/.local/bin' which is not on PATH.\n",
      "  Consider adding this directory to PATH or, if you prefer to suppress this warning, use --no-warn-script-location.\u001b[0m\u001b[33m\n",
      "\u001b[0mSuccessfully installed pylatexenc-2.10\n"
     ]
    }
   ],
   "source": [
    "!pip install qiskit\n",
    "!pip install pylatexenc"
   ]
  },
  {
   "cell_type": "code",
   "execution_count": 11,
   "id": "82daf9d6-8b31-4e7d-828d-f934f71d5096",
   "metadata": {},
   "outputs": [],
   "source": [
    "import matplotlib.pyplot as plt\n",
    "import numpy as np\n",
    "import math\n",
    "\n",
    "from qiskit import *\n",
    "from qiskit.providers.ibmq import least_busy\n",
    "\n",
    "from qiskit.tools.visualization import plot_histogram"
   ]
  },
  {
   "cell_type": "markdown",
   "id": "250c11da-2455-4717-8bce-4da1fc31bf83",
   "metadata": {},
   "source": [
    "# 2bit grovers"
   ]
  },
  {
   "cell_type": "code",
   "execution_count": 12,
   "id": "90819863-702c-4317-8092-29424a24a0e2",
   "metadata": {},
   "outputs": [
    {
     "name": "stdout",
     "output_type": "stream",
     "text": [
      "RESULT:  {'11': 1024} \n",
      "\n"
     ]
    },
    {
     "data": {
      "image/png": "[encoded data removed]",
      "text/plain": [
       "<Figure size 504x360 with 1 Axes>"
      ]
     },
     "execution_count": 12,
     "metadata": {},
     "output_type": "execute_result"
    }
   ],
   "source": [
    "# Initializing circuit: define as 2 qubits\n",
    "q = QuantumRegister(2, \"q\")\n",
    "c = ClassicalRegister(2, \"c\")\n",
    "\n",
    "# Create the quantum circuit\n",
    "qc = QuantumCircuit(q, c)\n",
    "\n",
    "## Step 1: Apply a Hadarmard gate to all qubits\n",
    "qc.h(q)\n",
    "\n",
    "## Step 2: Implement the Oracle circuit for state |11> + Grover diffusion\n",
    "qc.cz(q[1], q[0])\n",
    "qc.barrier(q)\n",
    "\n",
    "qc.h(q)\n",
    "qc.x(q)\n",
    "qc.cz(q[1], q[0])\n",
    "qc.x(q)\n",
    "qc.h(q)\n",
    "qc.barrier(q)\n",
    "\n",
    "## Don't forget about the measurement gates!\n",
    "qc.measure(q[0], c[0])\n",
    "qc.measure(q[1], c[1])\n",
    "\n",
    "qc.draw()\n",
    "\n",
    "## Step 4: Run on backend simulator and print results\n",
    "simulator = Aer.get_backend(\"aer_simulator\")\n",
    "result = execute(qc, backend=simulator).result()\n",
    "counts = result.get_counts()\n",
    "\n",
    "\n",
    "print(\"RESULT: \", counts, \"\\n\")\n",
    "\n",
    "plot_histogram(counts)"
   ]
  },
  {
   "cell_type": "markdown",
   "id": "d91a0cc7-8172-4744-8021-c1d95f648e94",
   "metadata": {},
   "source": [
    "# 3bit Grovers"
   ]
  },
  {
   "cell_type": "code",
   "execution_count": 13,
   "id": "928c8cab-4af5-4d0c-adad-75c619bcc507",
   "metadata": {},
   "outputs": [
    {
     "data": {
      "text/plain": [
       "<qiskit.circuit.instructionset.InstructionSet at 0x7fe3427887c0>"
      ]
     },
     "execution_count": 13,
     "metadata": {},
     "output_type": "execute_result"
    }
   ],
   "source": [
    "pi = math.pi\n",
    "\n",
    "# Initializing circuit: define as 3 qubits\n",
    "q = QuantumRegister(3, 'q')\n",
    "c = ClassicalRegister(3, 'c')\n",
    "\n",
    "# Create the quantum circuit\n",
    "qc = QuantumCircuit(q,c)\n",
    "\n",
    "## Step 1: Apply a Hadarmard gate to all qubits  \n",
    "qc.h(q)"
   ]
  },
  {
   "cell_type": "markdown",
   "id": "706a7ed3-6de0-42e0-af61-4064e53e4e29",
   "metadata": {},
   "source": [
    "## Step 2: Implement the Oracle circuit for state |111> + Grover diffusion"
   ]
  },
  {
   "cell_type": "code",
   "execution_count": 14,
   "id": "704fa6c9-8355-4005-9af6-1cf8df0c4707",
   "metadata": {},
   "outputs": [
    {
     "data": {
      "text/plain": [
       "<qiskit.circuit.instructionset.InstructionSet at 0x7fe342af5bc0>"
      ]
     },
     "execution_count": 14,
     "metadata": {},
     "output_type": "execute_result"
    }
   ],
   "source": [
    "\n",
    "qc.cz(q[2],q[0])\n",
    "qc.barrier(q)\n",
    "\n",
    "qc.h(q)\n",
    "qc.x(q)\n",
    "qc.barrier(q)\n",
    "\n",
    "qc.cx(q[1],q[0])\n",
    "qc.z(q[0]), -pi/4\n",
    "qc.cx(q[2],q[0])\n",
    "qc.z(q[0]),pi/4\n",
    "qc.cx(q[1],q[0])\n",
    "qc.z(q[0]), -pi/4\n",
    "qc.barrier(q)\n",
    "qc.cx(q[2],q[0])\n",
    "qc.z(q[0]),pi/4\n",
    "qc.z(q[1]),pi/4\n",
    "qc.barrier(q)\n",
    "qc.cx(q[2],q[1])\n",
    "qc.z(q[1]), -pi/4\n",
    "qc.cx(q[2], q[1])\n",
    "qc.z(q[2]), pi/4\n",
    "qc.barrier(q)\n",
    "\n",
    "qc.x(q)\n",
    "qc.h(q)\n",
    "qc.barrier(q)"
   ]
  },
  {
   "cell_type": "code",
   "execution_count": 16,
   "id": "9f57248f-eddc-4a18-b970-8a617f3b24f8",
   "metadata": {},
   "outputs": [
    {
     "data": {
      "text/plain": [
       "<qiskit.circuit.instructionset.InstructionSet at 0x7fe34294ca80>"
      ]
     },
     "execution_count": 16,
     "metadata": {},
     "output_type": "execute_result"
    }
   ],
   "source": [
    "## Don't forget about the measurement gates!\n",
    "qc.measure(q[0],c[0])\n",
    "qc.measure(q[1],c[1])\n",
    "qc.measure(q[2],c[2])"
   ]
  },
  {
   "cell_type": "code",
   "execution_count": 18,
   "id": "d7d05538-7c47-4390-9636-4a5e5ccef0d0",
   "metadata": {},
   "outputs": [
    {
     "name": "stdout",
     "output_type": "stream",
     "text": [
      "RESULT:  {'101': 138, '100': 98, '110': 117, '001': 131, '111': 135, '011': 140, '000': 134, '010': 131} \n",
      "\n"
     ]
    },
    {
     "data": {
      "image/png": "[encoded data removed]",
      "text/plain": [
       "<Figure size 504x360 with 1 Axes>"
      ]
     },
     "execution_count": 18,
     "metadata": {},
     "output_type": "execute_result"
    }
   ],
   "source": [
    "## Step 4: Run on backend simulator and print results\n",
    "simulator = Aer.get_backend('qasm_simulator')\n",
    "result = execute(qc, backend = simulator).result()\n",
    "counts = result.get_counts()\n",
    "\n",
    "print('RESULT: ',counts,'\\n')\n",
    "\n",
    "from qiskit.tools.visualization import plot_histogram\n",
    "plot_histogram(counts)\n",
    "\n",
    "## Note: accuracy of this implementation is not 100% (may need to run a couple iterations before achieving desired result)"
   ]
  },
  {
   "cell_type": "code",
   "execution_count": null,
   "id": "a8611012-9d28-4d6c-8639-7523ed5b9e27",
   "metadata": {},
   "outputs": [],
   "source": []
  }
 ],
 "metadata": {
  "kernelspec": {
   "display_name": "Python 3 (ipykernel)",
   "language": "python",
   "name": "python3"
  },
  "language_info": {
   "codemirror_mode": {
    "name": "ipython",
    "version": 3
   },
   "file_extension": ".py",
   "mimetype": "text/x-python",
   "name": "python",
   "nbconvert_exporter": "python",
   "pygments_lexer": "ipython3",
   "version": "3.8.12"
  }
 },
 "nbformat": 4,
 "nbformat_minor": 5
}
