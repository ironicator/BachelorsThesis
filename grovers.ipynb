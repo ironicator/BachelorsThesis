{
 "cells": [
  {
   "cell_type": "code",
   "execution_count": 2,
   "id": "82daf9d6-8b31-4e7d-828d-f934f71d5096",
   "metadata": {},
   "outputs": [],
   "source": [
    "from qiskit import QuantumCircuit, execute, ClassicalRegister, QuantumRegister\n",
    "from qiskit import IBMQ, Aer, assemble, transpile\n",
    "from qiskit.visualization import plot_histogram\n",
    "from qiskit.providers.aer.noise import NoiseModel\n",
    "from qiskit.providers.ibmq import least_busy\n",
    "\n",
    "from qiskit.circuit import classical_function, Int1, QuantumCircuit\n",
    "\n",
    "import matplotlib.pyplot as plt\n",
    "import numpy as np\n",
    "\n",
    "from qiskit.visualization import plot_histogram"
   ]
  },
  {
   "cell_type": "markdown",
   "id": "4e5ff12d",
   "metadata": {},
   "source": [
    "#### Apply __H__-gates to put qubits in superstate"
   ]
  },
  {
   "cell_type": "code",
   "execution_count": 3,
   "id": "953c66c3",
   "metadata": {},
   "outputs": [],
   "source": [
    "def initialize_s(qc, qubits):\n",
    "    for q in qubits:\n",
    "        qc.h(q)\n",
    "    return qc"
   ]
  },
  {
   "cell_type": "markdown",
   "id": "7b283030",
   "metadata": {},
   "source": [
    "#### Construct a diffuser for circuit of __n__ qubits"
   ]
  },
  {
   "cell_type": "code",
   "execution_count": 4,
   "id": "8c2fc1b6",
   "metadata": {},
   "outputs": [],
   "source": [
    "def diffuser(nqubits):\n",
    "    qc = QuantumCircuit(nqubits)\n",
    "    # Apply transformation |s> -> |00..0> (H-gates)\n",
    "    for qubit in range(nqubits):\n",
    "        qc.h(qubit)\n",
    "    # Apply transformation |00..0> -> |11..1> (X-gates)\n",
    "    for qubit in range(nqubits):\n",
    "        qc.x(qubit)\n",
    "    # Do multi-controlled-Z gate\n",
    "    qc.h(nqubits-1)\n",
    "    qc.mct(list(range(nqubits-1)), nqubits-1)  # multi-controlled-toffoli\n",
    "    qc.h(nqubits-1)\n",
    "    # Apply transformation |11..1> -> |00..0>\n",
    "    for qubit in range(nqubits):\n",
    "        qc.x(qubit)\n",
    "    # Apply transformation |00..0> -> |s>\n",
    "    for qubit in range(nqubits):\n",
    "        qc.h(qubit)\n",
    "    # We will return the diffuser as a gate\n",
    "    U_s = qc.to_gate()\n",
    "    U_s.name = \"U$_s$\"\n",
    "    return U_s"
   ]
  },
  {
   "cell_type": "markdown",
   "id": "f64ee783",
   "metadata": {},
   "source": [
    "#### Build noise model from backend properties"
   ]
  },
  {
   "cell_type": "code",
   "execution_count": 5,
   "id": "8fcf9498",
   "metadata": {},
   "outputs": [
    {
     "ename": "IBMQAccountCredentialsNotFound",
     "evalue": "'No IBM Quantum Experience credentials found.'",
     "output_type": "error",
     "traceback": [
      "\u001b[0;31m---------------------------------------------------------------------------\u001b[0m",
      "\u001b[0;31mIBMQAccountCredentialsNotFound\u001b[0m            Traceback (most recent call last)",
      "\u001b[0;32m/var/folders/mg/zn116jsx59s6y3ks7_v0x6zr0000gp/T/ipykernel_11388/957937917.py\u001b[0m in \u001b[0;36m<module>\u001b[0;34m\u001b[0m\n\u001b[0;32m----> 1\u001b[0;31m \u001b[0mprovider\u001b[0m \u001b[0;34m=\u001b[0m \u001b[0mIBMQ\u001b[0m\u001b[0;34m.\u001b[0m\u001b[0mload_account\u001b[0m\u001b[0;34m(\u001b[0m\u001b[0;34m)\u001b[0m\u001b[0;34m\u001b[0m\u001b[0;34m\u001b[0m\u001b[0m\n\u001b[0m\u001b[1;32m      2\u001b[0m \u001b[0mbackend\u001b[0m \u001b[0;34m=\u001b[0m \u001b[0mprovider\u001b[0m\u001b[0;34m.\u001b[0m\u001b[0mget_backend\u001b[0m\u001b[0;34m(\u001b[0m\u001b[0;34m'ibmq_lima'\u001b[0m\u001b[0;34m)\u001b[0m\u001b[0;34m\u001b[0m\u001b[0;34m\u001b[0m\u001b[0m\n\u001b[1;32m      3\u001b[0m \u001b[0mnoise_model\u001b[0m \u001b[0;34m=\u001b[0m \u001b[0mNoiseModel\u001b[0m\u001b[0;34m.\u001b[0m\u001b[0mfrom_backend\u001b[0m\u001b[0;34m(\u001b[0m\u001b[0mbackend\u001b[0m\u001b[0;34m)\u001b[0m\u001b[0;34m\u001b[0m\u001b[0;34m\u001b[0m\u001b[0m\n\u001b[1;32m      4\u001b[0m \u001b[0;34m\u001b[0m\u001b[0m\n\u001b[1;32m      5\u001b[0m \u001b[0mbasis_gates\u001b[0m \u001b[0;34m=\u001b[0m \u001b[0mnoise_model\u001b[0m\u001b[0;34m.\u001b[0m\u001b[0mbasis_gates\u001b[0m\u001b[0;34m\u001b[0m\u001b[0;34m\u001b[0m\u001b[0m\n",
      "\u001b[0;32m/usr/local/anaconda3/lib/python3.9/site-packages/qiskit/providers/ibmq/ibmqfactory.py\u001b[0m in \u001b[0;36mload_account\u001b[0;34m(self)\u001b[0m\n\u001b[1;32m    165\u001b[0m \u001b[0;34m\u001b[0m\u001b[0m\n\u001b[1;32m    166\u001b[0m         \u001b[0;32mif\u001b[0m \u001b[0;32mnot\u001b[0m \u001b[0mcredentials_list\u001b[0m\u001b[0;34m:\u001b[0m\u001b[0;34m\u001b[0m\u001b[0;34m\u001b[0m\u001b[0m\n\u001b[0;32m--> 167\u001b[0;31m             raise IBMQAccountCredentialsNotFound(\n\u001b[0m\u001b[1;32m    168\u001b[0m                 'No IBM Quantum Experience credentials found.')\n\u001b[1;32m    169\u001b[0m \u001b[0;34m\u001b[0m\u001b[0m\n",
      "\u001b[0;31mIBMQAccountCredentialsNotFound\u001b[0m: 'No IBM Quantum Experience credentials found.'"
     ]
    }
   ],
   "source": [
    "provider = IBMQ.load_account()\n",
    "backend = provider.get_backend('ibmq_lima')\n",
    "noise_model = NoiseModel.from_backend(backend)\n",
    "\n",
    "basis_gates = noise_model.basis_gates\n",
    "coupling_map = backend.configuration().coupling_map\n"
   ]
  },
  {
   "cell_type": "markdown",
   "id": "69858fa0",
   "metadata": {},
   "source": [
    "#### Construct the oracle with controlled Z-gates (XX110, XX101)"
   ]
  },
  {
   "cell_type": "code",
   "execution_count": null,
   "id": "99f900d0",
   "metadata": {},
   "outputs": [],
   "source": [
    "n = 5\n",
    "qc = QuantumCircuit(n)\n",
    "qc.cz(0, 2)\n",
    "qc.cz(1, 2)\n",
    "oracle = qc.to_gate()\n",
    "oracle.name = \"U$_\\omega$\""
   ]
  },
  {
   "cell_type": "markdown",
   "id": "d5c4315c",
   "metadata": {},
   "source": [
    "#### Consctruct the circuit"
   ]
  },
  {
   "cell_type": "code",
   "execution_count": null,
   "id": "1ad50a1e",
   "metadata": {},
   "outputs": [],
   "source": [
    "qs = list(range(n))\n",
    "grover_circuit = QuantumCircuit(n)\n",
    "grover_circuit = initialize_s(grover_circuit, qs)\n",
    "grover_circuit.append(oracle, qs)\n",
    "grover_circuit.append(diffuser(n), qs)\n",
    "grover_circuit.measure_all()\n",
    "grover_circuit.draw()"
   ]
  },
  {
   "cell_type": "markdown",
   "id": "b67d2d43",
   "metadata": {},
   "source": [
    "#### Since there are 2 solutions and 8 possibilities, we only need to run one iteration"
   ]
  },
  {
   "cell_type": "code",
   "execution_count": null,
   "id": "291cb2c8",
   "metadata": {},
   "outputs": [],
   "source": [
    "# Perform a noise simulation\n",
    "result = execute(grover_circuit, Aer.get_backend('aer_simulator'),\n",
    "                 coupling_map=coupling_map,\n",
    "                 basis_gates=basis_gates,\n",
    "                 noise_model=noise_model).result()\n",
    "counts = result.get_counts(0)\n",
    "plot_histogram(counts)"
   ]
  }
 ],
 "metadata": {
  "kernelspec": {
   "display_name": "Python 3 (ipykernel)",
   "language": "python",
   "name": "python3"
  },
  "language_info": {
   "codemirror_mode": {
    "name": "ipython",
    "version": 3
   },
   "file_extension": ".py",
   "mimetype": "text/x-python",
   "name": "python",
   "nbconvert_exporter": "python",
   "pygments_lexer": "ipython3",
   "version": "3.9.7"
  }
 },
 "nbformat": 4,
 "nbformat_minor": 5
}
