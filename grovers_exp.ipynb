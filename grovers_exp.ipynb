{
 "cells": [
  {
   "cell_type": "code",
   "execution_count": 18,
   "id": "f141c09f",
   "metadata": {
    "collapsed": false,
    "jupyter": {
     "outputs_hidden": false
    },
    "pycharm": {
     "name": "#%%\n"
    }
   },
   "outputs": [
    {
     "name": "stderr",
     "output_type": "stream",
     "text": [
      "ibmqfactory.load_account:WARNING:2022-05-10 13:56:30,633: Credentials are already in use. The existing account in the session will be replaced.\n"
     ]
    },
    {
     "name": "stdout",
     "output_type": "stream",
     "text": [
      "2 qubits, real: {'01': 25353, '10': 24672, '11': 23885, '00': 26090}\n",
      "2 qubits, depolarizing: {'11': 25089, '01': 24793, '10': 25119, '00': 24999}\n",
      "2 qubits, amplification dampening: {'10': 25121, '00': 25144, '01': 24831, '11': 24904}\n",
      "2 qubits, phase dampening: {'01': 24771, '00': 24913, '11': 25336, '10': 24980}\n",
      "3 qubits, real: {'001': 13686, '010': 13679, '100': 11660, '111': 10820, '110': 11363, '000': 14258, '011': 13377, '101': 11157}\n",
      "3 qubits, depolarizing: {'111': 12484, '110': 12499, '000': 12493, '011': 12396, '010': 12665, '101': 12567, '001': 12394, '100': 12502}\n",
      "3 qubits, amplification dampening: {'000': 12388, '001': 12453, '100': 12659, '111': 12621, '011': 12328, '110': 12562, '101': 12561, '010': 12428}\n",
      "3 qubits, phase dampening: {'011': 12721, '110': 12661, '100': 12557, '010': 12363, '101': 12521, '111': 12263, '000': 12461, '001': 12453}\n",
      "5 qubits, real: {'01001': 3152, '01110': 2895, '01000': 3548, '11001': 3048, '10001': 3385, '11110': 2778, '10101': 3132, '10110': 3021, '11111': 2360, '00100': 3761, '10010': 3123, '01011': 2485, '11101': 2842, '00101': 3390, '01111': 2461, '10100': 3749, '01100': 3461, '00000': 4083, '00110': 3285, '10011': 2738, '11010': 2850, '00010': 3359, '01101': 3096, '10111': 2471, '10000': 4049, '00011': 2930, '01010': 2936, '00001': 3584, '00111': 2790, '11100': 3321, '11000': 3489, '11011': 2428}\n",
      "5 qubits, depolarizing: {'11001': 3163, '10001': 3119, '10111': 3173, '01010': 2972, '11000': 3137, '01101': 3109, '00010': 3157, '10110': 3160, '11010': 3206, '00000': 3177, '10000': 3055, '01110': 3167, '10100': 3150, '01001': 3049, '00100': 3170, '10011': 3151, '00011': 3035, '11101': 3053, '01100': 3051, '01011': 3156, '11111': 3148, '00111': 3125, '01111': 3087, '11100': 3046, '01000': 3088, '10010': 3239, '10101': 3134, '00001': 3121, '11011': 3211, '00101': 3099, '00110': 3095, '11110': 3197}\n",
      "5 qubits, amplification dampening: {'11001': 3080, '00000': 3182, '00100': 3131, '11000': 3150, '01001': 3152, '10010': 3165, '00101': 3169, '01011': 3136, '01101': 2969, '00001': 3133, '01111': 3090, '10101': 3164, '01000': 2983, '10011': 3075, '10110': 3231, '01100': 3141, '00110': 3090, '11101': 3224, '10001': 3174, '11011': 3078, '00011': 3230, '01110': 3164, '00111': 3005, '11100': 3093, '10100': 3142, '11111': 3097, '01010': 3177, '00010': 3249, '10000': 3079, '11010': 3056, '11110': 3100, '10111': 3091}\n",
      "5 qubits, phase dampening: {'00111': 3062, '10110': 3068, '10111': 3112, '01100': 3097, '10010': 3119, '01001': 3091, '11000': 3088, '01000': 3110, '11111': 3168, '10011': 3154, '10000': 3137, '00100': 3146, '00010': 3087, '01101': 3226, '01110': 3122, '00110': 3143, '01111': 3159, '11101': 3141, '00000': 3115, '10100': 3132, '11011': 3086, '10001': 3252, '01011': 3041, '11100': 3212, '11110': 3150, '00101': 3169, '00011': 3074, '10101': 3170, '01010': 3148, '11010': 3074, '00001': 3040, '11001': 3107}\n"
     ]
    }
   ],
   "source": [
    "import math\n",
    "\n",
    "from qiskit import IBMQ, Aer, transpile, assemble\n",
    "from qiskit import execute\n",
    "from qiskit.circuit import QuantumCircuit\n",
    "import qiskit.providers.aer.noise as noise\n",
    "from qiskit.visualization import plot_histogram\n",
    "from qiskit.circuit.library import MCMTVChain \n",
    "import csv\n",
    "\n",
    "\n",
    "# Apply H-gates to put qubits in superstate\n",
    "def initialize_s(qc, qubits):\n",
    "    for q in qubits:\n",
    "        qc.h(q)\n",
    "    return qc\n",
    "\n",
    "# Construct a diffuser for circuit of n qubits\n",
    "def diffuser(nqubits):\n",
    "    qc = QuantumCircuit(nqubits)\n",
    "    for qubit in range(nqubits):\n",
    "        qc.h(qubit)\n",
    "    for qubit in range(nqubits):\n",
    "        qc.x(qubit)\n",
    "    qc.h(nqubits-1)\n",
    "    qc.mct(list(range(nqubits-1)), nqubits-1)\n",
    "    qc.h(nqubits-1)\n",
    "    for qubit in range(nqubits):\n",
    "        qc.x(qubit)\n",
    "    for qubit in range(nqubits):\n",
    "        qc.h(qubit)\n",
    "    U_s = qc.to_gate()\n",
    "    U_s.name = \"Diffuser\"\n",
    "    return U_s\n",
    "\n",
    "\n",
    "def execute_circ(n, noise_model=None, basis_gates=None, coupling_map=None):\n",
    "    qs = list(range(n))\n",
    "    grover_circuit = QuantumCircuit(n)\n",
    "    grover_circuit = initialize_s(grover_circuit, qs)\n",
    "    grover_circuit.append(diffuser(n), qs)\n",
    "    grover_circuit.measure_all()\n",
    "    grover_circuit.draw()\n",
    "\n",
    "    n_seq = round(math.sqrt(math.pow(2,n)))\n",
    "    result = execute(grover_circuit, Aer.get_backend('qasm_simulator'),\n",
    "                     noise_model=noise_model,\n",
    "                     coupling_map=coupling_map,\n",
    "                     basis_gates=basis_gates,shots=100000).result()\n",
    "    counts = result.get_counts()\n",
    "    return counts\n",
    "\n",
    "def custom_noise(prob, gates, error_function):\n",
    "    custom_noise = noise.NoiseModel()\n",
    "    e = error_function(prob, 1)\n",
    "    custom_noise.add_all_qubit_quantum_error(e, gates)\n",
    "    custom_basis = custom_noise.basis_gates\n",
    "    return custom_noise, custom_basis\n",
    "\n",
    "# Build noise model from backend properties\n",
    "provider = IBMQ.load_account()\n",
    "backend = provider.get_backend('ibmq_lima')\n",
    "\n",
    "real_noise = noise.NoiseModel.from_backend(backend)\n",
    "real_basis = real_noise.basis_gates\n",
    "coupling_map = backend.configuration().coupling_map\n",
    "\n",
    "# build custom noise models\n",
    "std_err = 3e-3\n",
    "depolar_h, depolar_basis_h = custom_noise(std_err, 'h', noise.depolarizing_error)\n",
    "depolar_x, depolar_basis_x = custom_noise(std_err, 'x', noise.depolarizing_error)\n",
    "ampdamp_h, ampdamp_basis_h = custom_noise(std_err, 'h', noise.amplitude_damping_error)\n",
    "ampdamp_x, ampdamp_basis_x = custom_noise(std_err, 'x', noise.amplitude_damping_error)\n",
    "phasedamp_h, phasedamp_basis_h = custom_noise(std_err, 'h', noise.phase_damping_error)\n",
    "phasedamp_x, phasedamp_basis_x = custom_noise(std_err, 'x', noise.phase_damping_error)\n",
    "\n",
    "bitcount = [2,3,5]\n",
    "for x in bitcount:\n",
    "    clean = execute_circ(x)\n",
    "    real = execute_circ(x, real_noise, real_basis, coupling_map)\n",
    "    depolar = execute_circ(x, depolar_h, depolar_basis_h)\n",
    "    ampdamp = execute_circ(x, ampdamp_h, ampdamp_basis_h)\n",
    "    phasedamp = execute_circ(x, phasedamp_h, phasedamp_basis_h)\n",
    "\n",
    "    with open('test_'+ str(x)+ '.csv', 'w') as f:\n",
    "        f.write(\"index, clean, real, depolar, ampdamp, phasedamp\\n\")\n",
    "        for key in clean.keys():\n",
    "            f.write(\"%s, %s, %s, %s, %s, %s\\n\" % (key, clean[key], real[key],depolar[key],ampdamp[key],phasedamp[key] ))\n",
    "    \n",
    "    legend = ['Without noise', 'With noise', 'Depolarizing', 'Amplification dampening', 'Phase dampening']\n",
    "    plot_histogram([clean, real, depolar, ampdamp, phasedamp],\n",
    "                   title=str(x) + \" qubits\",\n",
    "                   legend=legend,\n",
    "                   filename=f\"{x}qubits.jpg\",\n",
    "                   figsize=(35,17))\n",
    "\n",
    "    print(f\"{x} qubits, clean: {clean}\")\n",
    "    print(f\"{x} qubits, real: {real}\")\n",
    "    print(f\"{x} qubits, depolarizing: {depolar}\")\n",
    "    print(f\"{x} qubits, amplification dampening: {ampdamp}\")\n",
    "    print(f\"{x} qubits, phase dampening: {phasedamp}\")\n",
    "\n"
   ]
  },
  {
   "cell_type": "code",
   "execution_count": null,
   "id": "d70d8f12-c74c-4599-bd6f-1190f991ba73",
   "metadata": {},
   "outputs": [],
   "source": []
  }
 ],
 "metadata": {
  "kernelspec": {
   "display_name": "Python 3 (ipykernel)",
   "language": "python",
   "name": "python3"
  },
  "language_info": {
   "codemirror_mode": {
    "name": "ipython",
    "version": 3
   },
   "file_extension": ".py",
   "mimetype": "text/x-python",
   "name": "python",
   "nbconvert_exporter": "python",
   "pygments_lexer": "ipython3",
   "version": "3.9.12"
  }
 },
 "nbformat": 4,
 "nbformat_minor": 5
}
