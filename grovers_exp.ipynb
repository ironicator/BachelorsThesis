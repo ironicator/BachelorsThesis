{
 "cells": [
  {
   "cell_type": "code",
   "execution_count": 3,
   "id": "f141c09f",
   "metadata": {
    "collapsed": false,
    "jupyter": {
     "outputs_hidden": false
    },
    "pycharm": {
     "name": "#%%\n"
    }
   },
   "outputs": [
    {
     "name": "stderr",
     "output_type": "stream",
     "text": [
      "ibmqfactory.load_account:WARNING:2022-06-08 12:09:10,415: Credentials are already in use. The existing account in the session will be replaced.\n"
     ]
    },
    {
     "ename": "NameError",
     "evalue": "name 'clean' is not defined",
     "output_type": "error",
     "traceback": [
      "\u001b[1;31m---------------------------------------------------------------------------\u001b[0m",
      "\u001b[1;31mNameError\u001b[0m                                 Traceback (most recent call last)",
      "Input \u001b[1;32mIn [3]\u001b[0m, in \u001b[0;36m<cell line: 80>\u001b[1;34m()\u001b[0m\n\u001b[0;32m     87\u001b[0m \u001b[38;5;28;01mwith\u001b[39;00m \u001b[38;5;28mopen\u001b[39m(\u001b[38;5;124m'\u001b[39m\u001b[38;5;124mtest_\u001b[39m\u001b[38;5;124m'\u001b[39m\u001b[38;5;241m+\u001b[39m \u001b[38;5;28mstr\u001b[39m(x)\u001b[38;5;241m+\u001b[39m \u001b[38;5;124m'\u001b[39m\u001b[38;5;124m.csv\u001b[39m\u001b[38;5;124m'\u001b[39m, \u001b[38;5;124m'\u001b[39m\u001b[38;5;124mw\u001b[39m\u001b[38;5;124m'\u001b[39m) \u001b[38;5;28;01mas\u001b[39;00m f:\n\u001b[0;32m     88\u001b[0m     f\u001b[38;5;241m.\u001b[39mwrite(\u001b[38;5;124m\"\u001b[39m\u001b[38;5;124mQubit, Baseline, Real, Depolarizing, Amplification, Phase\u001b[39m\u001b[38;5;130;01m\\n\u001b[39;00m\u001b[38;5;124m\"\u001b[39m)\n\u001b[1;32m---> 89\u001b[0m     \u001b[38;5;28;01mfor\u001b[39;00m key \u001b[38;5;129;01min\u001b[39;00m \u001b[43mclean\u001b[49m\u001b[38;5;241m.\u001b[39mkeys():\n\u001b[0;32m     90\u001b[0m         f\u001b[38;5;241m.\u001b[39mwrite(\u001b[38;5;124m\"\u001b[39m\u001b[38;5;132;01m%s\u001b[39;00m\u001b[38;5;124m, \u001b[39m\u001b[38;5;132;01m%s\u001b[39;00m\u001b[38;5;124m, \u001b[39m\u001b[38;5;132;01m%s\u001b[39;00m\u001b[38;5;124m, \u001b[39m\u001b[38;5;132;01m%s\u001b[39;00m\u001b[38;5;124m, \u001b[39m\u001b[38;5;132;01m%s\u001b[39;00m\u001b[38;5;124m, \u001b[39m\u001b[38;5;132;01m%s\u001b[39;00m\u001b[38;5;130;01m\\n\u001b[39;00m\u001b[38;5;124m\"\u001b[39m \u001b[38;5;241m%\u001b[39m (key, baseline[key], real[key],depolarizing[key],amplification[key],phase[key] ))\n\u001b[0;32m     92\u001b[0m legend \u001b[38;5;241m=\u001b[39m [\u001b[38;5;124m'\u001b[39m\u001b[38;5;124mWithout noise\u001b[39m\u001b[38;5;124m'\u001b[39m, \u001b[38;5;124m'\u001b[39m\u001b[38;5;124mWith noise\u001b[39m\u001b[38;5;124m'\u001b[39m, \u001b[38;5;124m'\u001b[39m\u001b[38;5;124mDepolarizing\u001b[39m\u001b[38;5;124m'\u001b[39m, \u001b[38;5;124m'\u001b[39m\u001b[38;5;124mAmplification dampening\u001b[39m\u001b[38;5;124m'\u001b[39m, \u001b[38;5;124m'\u001b[39m\u001b[38;5;124mPhase dampening\u001b[39m\u001b[38;5;124m'\u001b[39m]\n",
      "\u001b[1;31mNameError\u001b[0m: name 'clean' is not defined"
     ]
    }
   ],
   "source": [
    "import math\n",
    "\n",
    "from qiskit import IBMQ, Aer, transpile, assemble\n",
    "from qiskit import execute\n",
    "from qiskit.circuit import QuantumCircuit\n",
    "import qiskit.providers.aer.noise as noise\n",
    "from qiskit.visualization import plot_histogram\n",
    "from qiskit.circuit.library import MCMTVChain \n",
    "import csv\n",
    "\n",
    "\n",
    "# Apply H-gates to put qubits in superstate\n",
    "def initialize_s(qc, qubits):\n",
    "    for q in qubits:\n",
    "        qc.h(q)\n",
    "    return qc\n",
    "\n",
    "# Construct a diffuser for circuit of n qubits\n",
    "def diffuser(nqubits):\n",
    "    qc = QuantumCircuit(nqubits)\n",
    "    for qubit in range(nqubits):\n",
    "        qc.h(qubit)\n",
    "    for qubit in range(nqubits):\n",
    "        qc.x(qubit)\n",
    "    qc.h(nqubits-1)\n",
    "    qc.mct(list(range(nqubits-1)), nqubits-1)\n",
    "    qc.h(nqubits-1)\n",
    "    for qubit in range(nqubits):\n",
    "        qc.x(qubit)\n",
    "    for qubit in range(nqubits):\n",
    "        qc.h(qubit)\n",
    "    U_s = qc.to_gate()\n",
    "    U_s.name = \"Diffuser\"\n",
    "    return U_s\n",
    "\n",
    "\n",
    "def execute_circ(n, noise_model=None, basis_gates=None, coupling_map=None):\n",
    "    qs = list(range(n))\n",
    "    grover_circuit = QuantumCircuit(n)\n",
    "    grover_circuit = initialize_s(grover_circuit, qs)\n",
    "    grover_circuit.append(diffuser(n), qs)\n",
    "    grover_circuit.measure_all()\n",
    "    grover_circuit.draw()\n",
    "\n",
    "    n_seq = round(math.sqrt(math.pow(2,n)))\n",
    "    result = execute(grover_circuit, Aer.get_backend('qasm_simulator'),\n",
    "                     noise_model=noise_model,\n",
    "                     coupling_map=coupling_map,\n",
    "                     basis_gates=basis_gates,shots=100000).result()\n",
    "    counts = result.get_counts()\n",
    "    return counts\n",
    "\n",
    "execute_circ(2)\n",
    "\n",
    "def custom_noise(prob, gates, error_function):\n",
    "    custom_noise = noise.NoiseModel()\n",
    "    e = error_function(prob, 1)\n",
    "    custom_noise.add_all_qubit_quantum_error(e, gates)\n",
    "    custom_basis = custom_noise.basis_gates\n",
    "    return custom_noise, custom_basis\n",
    "\n",
    "# Build noise model from backend properties\n",
    "provider = IBMQ.load_account()\n",
    "backend = provider.get_backend('ibmq_lima')\n",
    "\n",
    "real_noise = noise.NoiseModel.from_backend(backend)\n",
    "real_basis = real_noise.basis_gates\n",
    "coupling_map = backend.configuration().coupling_map\n",
    "\n",
    "# build custom noise models\n",
    "std_err = 3e-3\n",
    "depolar_h, depolar_basis_h = custom_noise(std_err, 'h', noise.depolarizing_error)\n",
    "depolar_x, depolar_basis_x = custom_noise(std_err, 'x', noise.depolarizing_error)\n",
    "ampdamp_h, ampdamp_basis_h = custom_noise(std_err, 'h', noise.amplitude_damping_error)\n",
    "ampdamp_x, ampdamp_basis_x = custom_noise(std_err, 'x', noise.amplitude_damping_error)\n",
    "phasedamp_h, phasedamp_basis_h = custom_noise(std_err, 'h', noise.phase_damping_error)\n",
    "phasedamp_x, phasedamp_basis_x = custom_noise(std_err, 'x', noise.phase_damping_error)\n",
    "\n",
    "bitcount = [2,3,5]\n",
    "for x in bitcount:\n",
    "    baseline = execute_circ(x)\n",
    "    real = execute_circ(x, real_noise, real_basis, coupling_map)\n",
    "    depolarizing = execute_circ(x, depolar_h, depolar_basis_h)\n",
    "    amplification = execute_circ(x, ampdamp_h, ampdamp_basis_h)\n",
    "    phase = execute_circ(x, phasedamp_h, phasedamp_basis_h)\n",
    "\n",
    "    with open('test_'+ str(x)+ '.csv', 'w') as f:\n",
    "        f.write(\"Qubit, Baseline, Real, Depolarizing, Amplification, Phase\\n\")\n",
    "        for key in clean.keys():\n",
    "            f.write(\"%s, %s, %s, %s, %s, %s\\n\" % (key, baseline[key], real[key],depolarizing[key],amplification[key],phase[key] ))\n",
    "    \n",
    "    legend = ['Without noise', 'With noise', 'Depolarizing', 'Amplification dampening', 'Phase dampening']\n",
    "    plot_histogram([baseline, real, depolarizing, amplifification, phase],\n",
    "                   title=str(x) + \" qubits\",\n",
    "                   legend=legend,\n",
    "                   filename=f\"{x}qubits_oldStyle.jpg\",\n",
    "                   figsize=(35,17))\n",
    "\n",
    "    print(f\"{x} qubits, baseline: {baseline}\")\n",
    "    print(f\"{x} qubits, real: {real}\")\n",
    "    print(f\"{x} qubits, depolarizing: {depolarizing}\")\n",
    "    print(f\"{x} qubits, amplification dampening: {amplification}\")\n",
    "    print(f\"{x} qubits, phase dampening: {phase}\")"
   ]
  },
  {
   "cell_type": "code",
   "execution_count": null,
   "id": "d70d8f12-c74c-4599-bd6f-1190f991ba73",
   "metadata": {},
   "outputs": [],
   "source": []
  },
  {
   "cell_type": "code",
   "execution_count": null,
   "id": "4513c5ba-4c0d-4754-a8b5-46e2b0e81dca",
   "metadata": {},
   "outputs": [],
   "source": []
  }
 ],
 "metadata": {
  "kernelspec": {
   "display_name": "Python 3 (ipykernel)",
   "language": "python",
   "name": "python3"
  },
  "language_info": {
   "codemirror_mode": {
    "name": "ipython",
    "version": 3
   },
   "file_extension": ".py",
   "mimetype": "text/x-python",
   "name": "python",
   "nbconvert_exporter": "python",
   "pygments_lexer": "ipython3",
   "version": "3.9.12"
  }
 },
 "nbformat": 4,
 "nbformat_minor": 5
}
